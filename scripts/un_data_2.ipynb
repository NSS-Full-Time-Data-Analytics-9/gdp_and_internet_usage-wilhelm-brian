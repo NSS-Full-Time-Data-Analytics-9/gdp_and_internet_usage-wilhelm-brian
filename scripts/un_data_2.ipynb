{
 "cells": [
  {
   "cell_type": "markdown",
   "id": "c5fb35f9",
   "metadata": {},
   "source": [
    "# 3.\tImport the required packages with their customary aliases as follows:"
   ]
  },
  {
   "cell_type": "code",
   "execution_count": null,
   "id": "83701b10",
   "metadata": {},
   "outputs": [],
   "source": [
    "import pandas as pd\n",
    "import numpy as np\n",
    "import matplotlib.pyplot as plt\n",
    "import seaborn as sns"
   ]
  },
  {
   "cell_type": "markdown",
   "id": "f54091e2",
   "metadata": {},
   "source": [
    "# 4. Using the pandas `read_csv()` method, read the GDP dataset into your notebook as a DataFrame called `gdp_df`. Take a look at the first few and last few rows to familiarize yourself with what is contained in this dataset."
   ]
  },
  {
   "cell_type": "code",
   "execution_count": null,
   "id": "3bd0648a",
   "metadata": {},
   "outputs": [],
   "source": [
    "gdp_df = pd.read_csv('../data/gdp_percapita.csv')\n",
    "gdp_df"
   ]
  },
  {
   "cell_type": "markdown",
   "id": "aa20c0aa",
   "metadata": {},
   "source": [
    "# 5. How many rows and columns are in `gdp_df`? What are the data types of each column?"
   ]
  },
  {
   "cell_type": "markdown",
   "id": "4455c896",
   "metadata": {},
   "source": [
    "Rows and Columns"
   ]
  },
  {
   "cell_type": "code",
   "execution_count": null,
   "id": "9eb3e860",
   "metadata": {},
   "outputs": [],
   "source": [
    "gdp_df.shape"
   ]
  },
  {
   "cell_type": "markdown",
   "id": "53f2dfa9",
   "metadata": {},
   "source": [
    "Data Types"
   ]
  },
  {
   "cell_type": "code",
   "execution_count": null,
   "id": "0d838dbd",
   "metadata": {},
   "outputs": [],
   "source": [
    "gdp_df.info()"
   ]
  },
  {
   "cell_type": "markdown",
   "id": "1ebde468",
   "metadata": {},
   "source": [
    "# 6. Drop the `Value Footnotes` column and rename the remaining three to 'Country', 'Year', and 'GDP_Per_Capita'."
   ]
  },
  {
   "cell_type": "markdown",
   "id": "d40eb9bc",
   "metadata": {},
   "source": [
    "                    I dropped column but code disappered.  gdp_df.drop(columns = 'Value Footnotes')"
   ]
  },
  {
   "cell_type": "code",
   "execution_count": null,
   "id": "a3a220f3",
   "metadata": {},
   "outputs": [],
   "source": [
    "gdp_df = gdp_df.drop(columns = 'Value Footnotes')"
   ]
  },
  {
   "cell_type": "code",
   "execution_count": null,
   "id": "3a6148f4",
   "metadata": {},
   "outputs": [],
   "source": [
    "gdp_df"
   ]
  },
  {
   "cell_type": "code",
   "execution_count": null,
   "id": "9b8e4067",
   "metadata": {
    "scrolled": false
   },
   "outputs": [],
   "source": [
    "gdp_df = gdp_df.rename(columns = {'Country or Area':'country', 'Year':'year', 'Value':'gdp_per_capita'})\n",
    "gdp_df.head()"
   ]
  },
  {
   "cell_type": "markdown",
   "id": "3eec76a5",
   "metadata": {},
   "source": [
    "# 7. How many countries have data for all years? Which countries are missing many years of data? Look at the number of observations per year. What do you notice? "
   ]
  },
  {
   "cell_type": "code",
   "execution_count": null,
   "id": "63dc26e2",
   "metadata": {},
   "outputs": [],
   "source": [
    "gdp_years = gdp_df.groupby(['country'])['year'].count()\n",
    "type(gdp_years)"
   ]
  },
  {
   "cell_type": "markdown",
   "id": "818d1c92",
   "metadata": {},
   "source": [
    "                        Lost code, but changed gdp_years from series to dataframe with to.frame()"
   ]
  },
  {
   "cell_type": "code",
   "execution_count": null,
   "id": "e01577bf",
   "metadata": {},
   "outputs": [],
   "source": [
    "type(gdp_years)"
   ]
  },
  {
   "cell_type": "code",
   "execution_count": null,
   "id": "58cc9912",
   "metadata": {},
   "outputs": [],
   "source": [
    "gdp_years.drop(columns = 'level_0')\n",
    "gdp_years.drop(columns = 'index')"
   ]
  },
  {
   "cell_type": "code",
   "execution_count": null,
   "id": "f5526394",
   "metadata": {},
   "outputs": [],
   "source": [
    "gdp_years = gdp_years.to_frame()"
   ]
  },
  {
   "cell_type": "code",
   "execution_count": null,
   "id": "a7ff796b",
   "metadata": {},
   "outputs": [],
   "source": [
    "gdp_years = gdp_years.reset_index()"
   ]
  },
  {
   "cell_type": "code",
   "execution_count": null,
   "id": "4bb0573c",
   "metadata": {},
   "outputs": [],
   "source": [
    "gdp_years"
   ]
  },
  {
   "cell_type": "code",
   "execution_count": null,
   "id": "909d26f9",
   "metadata": {
    "scrolled": true
   },
   "outputs": [],
   "source": [
    "gdp_years = gdp_years.rename(columns = {'year': 'count'})\n",
    "gdp_years"
   ]
  },
  {
   "cell_type": "markdown",
   "id": "da1d4c3e",
   "metadata": {},
   "source": [
    "                                Countries with data for all years"
   ]
  },
  {
   "cell_type": "code",
   "execution_count": null,
   "id": "3df8bffa",
   "metadata": {
    "scrolled": true
   },
   "outputs": [],
   "source": [
    "gdp_years.loc[gdp_years['count'] == 31].count()"
   ]
  },
  {
   "cell_type": "markdown",
   "id": "ae36c958",
   "metadata": {},
   "source": [
    "                               Countries with less than 25 years recorded"
   ]
  },
  {
   "cell_type": "code",
   "execution_count": null,
   "id": "1e1c4210",
   "metadata": {
    "scrolled": true
   },
   "outputs": [],
   "source": [
    "gdp_years.loc[gdp_years['count'] < 25].count()"
   ]
  },
  {
   "cell_type": "markdown",
   "id": "8435a00b",
   "metadata": {},
   "source": [
    "                Number of observations increases over time, but decreses in 2019 and 2020"
   ]
  },
  {
   "cell_type": "code",
   "execution_count": null,
   "id": "b42f1f1b",
   "metadata": {},
   "outputs": [],
   "source": [
    "gdp_df.groupby(['year'])['country'].count()"
   ]
  },
  {
   "cell_type": "markdown",
   "id": "59849a46",
   "metadata": {},
   "source": [
    "# 8. In this question, you're going to create some plots to show the distribution of GDP per capita for the year 2020. Go to the Python Graph Gallery (https://www.python-graph-gallery.com/) and look at the different types of plots under the Distribution section. Create a histogram, a density plot, a boxplot, and a violin plot. What do you notice when you look at these plots? How do the plots compare and what information can you get out of one type that you can't necessarily get out of the others?\n"
   ]
  },
  {
   "cell_type": "code",
   "execution_count": null,
   "id": "12063176",
   "metadata": {},
   "outputs": [],
   "source": [
    "gdp_2020 = gdp_df.loc[gdp_df['year'] == 2020]\n",
    "gdp_2020"
   ]
  },
  {
   "cell_type": "markdown",
   "id": "b5a76d3c",
   "metadata": {},
   "source": [
    "#                                                        Histogram"
   ]
  },
  {
   "cell_type": "code",
   "execution_count": null,
   "id": "3d9ef81a",
   "metadata": {},
   "outputs": [],
   "source": [
    "sns.set(style='darkgrid')\n",
    "sns.distplot(a=gdp_2020['gdp_per_capita'], hist=True, kde=False, rug=False)\n",
    "plt.xlabel('gdp_per_capita')\n",
    "plt.ylabel('#_of_countries')\n",
    "plt.title('GDP_per_capita (2020)')"
   ]
  },
  {
   "cell_type": "markdown",
   "id": "490d913e",
   "metadata": {},
   "source": [
    "# Density Plot"
   ]
  },
  {
   "cell_type": "code",
   "execution_count": null,
   "id": "db6fcbad",
   "metadata": {},
   "outputs": [],
   "source": [
    "sns.set(style='darkgrid')\n",
    "sns.kdeplot(gdp_2020['gdp_per_capita'])\n",
    "plt.title('GDP-per_capita (2020)')"
   ]
  },
  {
   "cell_type": "markdown",
   "id": "3b47e48c",
   "metadata": {},
   "source": [
    "# Boxplot"
   ]
  },
  {
   "cell_type": "code",
   "execution_count": null,
   "id": "27c380a9",
   "metadata": {},
   "outputs": [],
   "source": [
    "sns.set(style='darkgrid')\n",
    "sns.boxplot( x=gdp_2020[\"country\"], y=gdp_2020[\"gdp_per_capita\"])"
   ]
  },
  {
   "cell_type": "markdown",
   "id": "28a9201b",
   "metadata": {},
   "source": [
    "# Violin Plot"
   ]
  },
  {
   "cell_type": "code",
   "execution_count": null,
   "id": "a70a13a8",
   "metadata": {},
   "outputs": [],
   "source": [
    "sns.set(style='darkgrid')\n",
    "sns.violinplot(x=gdp_2020[\"country\"], y=gdp_2020[\"gdp_per_capita\"])"
   ]
  },
  {
   "cell_type": "markdown",
   "id": "ab18ca04",
   "metadata": {},
   "source": [
    "# 9. What was the median GDP per capita value in 2020?"
   ]
  },
  {
   "cell_type": "code",
   "execution_count": null,
   "id": "c1128cd2",
   "metadata": {},
   "outputs": [],
   "source": [
    "gdp_2020['gdp_per_capita'].median()"
   ]
  },
  {
   "cell_type": "markdown",
   "id": "715ff832",
   "metadata": {},
   "source": [
    "# 10. For this question, you're going to create some visualizations to compare GDP per capita values for the years 1990, 2000, 2010, and 2020. Start by subsetting your data to just these 4 years into a new DataFrame named gdp_decades. Using this, create the following 4 plots:"
   ]
  },
  {
   "cell_type": "markdown",
   "id": "4fd058c3",
   "metadata": {},
   "source": [
    "GDP grouped into 4 seperates years"
   ]
  },
  {
   "cell_type": "code",
   "execution_count": null,
   "id": "9e9a373f",
   "metadata": {},
   "outputs": [],
   "source": [
    "gdp_decades = gdp_df.loc[(gdp_df['year'] == 1990) | (gdp_df['year'] == 2000) | (gdp_df['year'] == 2010) | (gdp_df['year'] == 2020)]"
   ]
  },
  {
   "cell_type": "code",
   "execution_count": null,
   "id": "88fedc00",
   "metadata": {
    "scrolled": true
   },
   "outputs": [],
   "source": [
    "gdp_decades"
   ]
  },
  {
   "cell_type": "markdown",
   "id": "c905c60e",
   "metadata": {},
   "source": [
    "# Boxplot"
   ]
  },
  {
   "cell_type": "code",
   "execution_count": null,
   "id": "41670066",
   "metadata": {},
   "outputs": [],
   "source": [
    "sns.set(style='darkgrid')\n",
    "sns.boxplot( x=gdp_decades[\"year\"], y=gdp_decades[\"gdp_per_capita\"] )\n",
    "plt.xlabel('Year')\n",
    "plt.ylabel('GDP_per_Capita')\n",
    "plt.title('GDP_per_capita Grouped by Year')"
   ]
  },
  {
   "cell_type": "markdown",
   "id": "a538c9d1",
   "metadata": {},
   "source": [
    "# Barplot"
   ]
  },
  {
   "cell_type": "code",
   "execution_count": null,
   "id": "bd4d184f",
   "metadata": {},
   "outputs": [],
   "source": [
    "sns.barplot(x='year', y='gdp_per_capita', data=gdp_decades)"
   ]
  },
  {
   "cell_type": "markdown",
   "id": "aa0ee5d7",
   "metadata": {},
   "source": [
    "# Scatterplot"
   ]
  },
  {
   "cell_type": "code",
   "execution_count": null,
   "id": "a1f86127",
   "metadata": {},
   "outputs": [],
   "source": [
    "sns.scatterplot(x=gdp_decades['year'], y=gdp_decades['gdp_per_capita'])\n",
    "plt.title('GDP_per_Capita by Year')\n",
    "plt.xlabel('Year')\n",
    "plt.ylabel('GDP_per_Capita')"
   ]
  },
  {
   "cell_type": "markdown",
   "id": "46cc613f",
   "metadata": {},
   "source": [
    "# Scatterplot w/trend line overlaid"
   ]
  },
  {
   "cell_type": "code",
   "execution_count": null,
   "id": "62250012",
   "metadata": {},
   "outputs": [],
   "source": [
    "sns.regplot(x=gdp_decades['year'], y=gdp_decades['gdp_per_capita'], line_kws={'color':'r', 'alpha':0.7,'lw':5})"
   ]
  },
  {
   "cell_type": "markdown",
   "id": "a4523410",
   "metadata": {},
   "source": [
    "# 11. Which country was the first to have a GDP per capita greater than 100,000?\n"
   ]
  },
  {
   "cell_type": "code",
   "execution_count": null,
   "id": "6b22b28a",
   "metadata": {
    "scrolled": true
   },
   "outputs": [],
   "source": [
    "gdp_over_100 = gdp_df.loc[gdp_df['gdp_per_capita'] > 100000]\n",
    "gdp_over_100"
   ]
  },
  {
   "cell_type": "code",
   "execution_count": null,
   "id": "e508f608",
   "metadata": {},
   "outputs": [],
   "source": [
    "gdp_over_100.loc[gdp_over_100['year'] == min(gdp_over_100['year'])]"
   ]
  },
  {
   "cell_type": "markdown",
   "id": "1a8489df",
   "metadata": {},
   "source": [
    "# 12. Which country had the highest GDP per capita in 2020? Create a plot showing how this country's GDP per capita has changed over the timespan of the dataset."
   ]
  },
  {
   "cell_type": "markdown",
   "id": "4587665c",
   "metadata": {},
   "source": [
    "Country with highest GDP per capita 2020"
   ]
  },
  {
   "cell_type": "code",
   "execution_count": null,
   "id": "2c90e42e",
   "metadata": {
    "scrolled": true
   },
   "outputs": [],
   "source": [
    "gdp_2020.loc[gdp_2020['gdp_per_capita'] == max(gdp_2020['gdp_per_capita'])]"
   ]
  },
  {
   "cell_type": "code",
   "execution_count": null,
   "id": "cfdf021d",
   "metadata": {
    "scrolled": true
   },
   "outputs": [],
   "source": [
    "gdp_luxem = gdp_df.loc[gdp_df['country'] == 'Luxembourg']\n",
    "gdp_luxem"
   ]
  },
  {
   "cell_type": "code",
   "execution_count": null,
   "id": "69239668",
   "metadata": {},
   "outputs": [],
   "source": [
    "plt.plot('year', 'gdp_per_capita', data=gdp_luxem, color='r', alpha=1)"
   ]
  },
  {
   "cell_type": "markdown",
   "id": "386d2762",
   "metadata": {},
   "source": [
    "# 13. Which country had the lowest GDP per capita in 2020? Create a plot showing how this country's GDP per capita has changed over the timespan of the dataset. "
   ]
  },
  {
   "cell_type": "markdown",
   "id": "7c463137",
   "metadata": {},
   "source": [
    "Country with lowest GDP in 2020"
   ]
  },
  {
   "cell_type": "code",
   "execution_count": null,
   "id": "97e046bc",
   "metadata": {
    "scrolled": true
   },
   "outputs": [],
   "source": [
    "gdp_2020.loc[gdp_2020['gdp_per_capita'] == min(gdp_2020['gdp_per_capita'])]"
   ]
  },
  {
   "cell_type": "code",
   "execution_count": null,
   "id": "ccf654ef",
   "metadata": {
    "scrolled": true
   },
   "outputs": [],
   "source": [
    "gdp_burundi = gdp_df.loc[gdp_df['country'] == 'Burundi']\n",
    "gdp_burundi"
   ]
  },
  {
   "cell_type": "code",
   "execution_count": null,
   "id": "228e428a",
   "metadata": {},
   "outputs": [],
   "source": [
    "plt.plot('year', 'gdp_per_capita', data=gdp_burundi, color='r', alpha=1)"
   ]
  },
  {
   "cell_type": "markdown",
   "id": "eee00070",
   "metadata": {},
   "source": [
    "# **Bonus question:** Is it true in general that coutries had a higher GDP per capita in 2020 than in 1990? Which countries had lower GDP per capita in 2020 than in 1990?"
   ]
  },
  {
   "cell_type": "code",
   "execution_count": null,
   "id": "bcdb764c",
   "metadata": {},
   "outputs": [],
   "source": [
    "gdp_1990_2020 = gdp_df.loc[(gdp_df['year'] == 1990) | (gdp_df['year'] == 2020)]\n",
    "gdp_1990_2020"
   ]
  },
  {
   "cell_type": "markdown",
   "id": "931140d3",
   "metadata": {},
   "source": [
    "Ran into issues, moved on"
   ]
  },
  {
   "cell_type": "markdown",
   "id": "0099d7c2",
   "metadata": {},
   "source": [
    "# 14. Read in the internet use dataset into a DataFrame named `internet_df`. You will likely get errors when doing this. Check the arguments for the read_csv function to find ones that can help correct the errors (https://pandas.pydata.org/docs/reference/api/pandas.read_csv.html) Once you are able to read it in, take per a look at the top and bottom few rows to make sure that it has been read in correctly. Also, check the datatypes of the columns."
   ]
  },
  {
   "cell_type": "code",
   "execution_count": null,
   "id": "db9847f1",
   "metadata": {},
   "outputs": [],
   "source": [
    "internet_df = pd.read_csv('../data/internet_use.csv', nrows = 4496, engine = 'python')\n",
    "internet_df"
   ]
  },
  {
   "cell_type": "code",
   "execution_count": null,
   "id": "f93a6fb6",
   "metadata": {},
   "outputs": [],
   "source": [
    "internet_df.info()"
   ]
  },
  {
   "cell_type": "markdown",
   "id": "30764d4a",
   "metadata": {},
   "source": [
    "# 15. Drop the `Value Footnotes` column and rename the remaining three to 'Country', 'Year', and 'Internet_Users_Pct'."
   ]
  },
  {
   "cell_type": "code",
   "execution_count": null,
   "id": "4a002486",
   "metadata": {},
   "outputs": [],
   "source": [
    "internet_df = internet_df.drop(columns = 'Value Footnotes')"
   ]
  },
  {
   "cell_type": "code",
   "execution_count": null,
   "id": "d4dcee85",
   "metadata": {},
   "outputs": [],
   "source": [
    "internet_df = internet_df.rename(columns = {'Country or Area':'country', 'Year':'year', 'Value':'internet_users_pct'})"
   ]
  },
  {
   "cell_type": "code",
   "execution_count": null,
   "id": "144bdccc",
   "metadata": {},
   "outputs": [],
   "source": [
    "internet_df"
   ]
  },
  {
   "cell_type": "markdown",
   "id": "4a7194d0",
   "metadata": {},
   "source": [
    "# 16. Look at the number of observations in this dataset per year. What do you notice?"
   ]
  },
  {
   "cell_type": "code",
   "execution_count": null,
   "id": "1e73b625",
   "metadata": {},
   "outputs": [],
   "source": [
    "internet_years = internet_df.value_counts('year')"
   ]
  },
  {
   "cell_type": "code",
   "execution_count": null,
   "id": "f963a30a",
   "metadata": {},
   "outputs": [],
   "source": [
    "internet_years = internet_years.to_frame()"
   ]
  },
  {
   "cell_type": "code",
   "execution_count": null,
   "id": "e8ec50c5",
   "metadata": {},
   "outputs": [],
   "source": [
    "internet_years = internet_years.reset_index()"
   ]
  },
  {
   "cell_type": "code",
   "execution_count": null,
   "id": "c9bbe2bc",
   "metadata": {
    "scrolled": true
   },
   "outputs": [],
   "source": [
    "internet_years.rename(columns = {'year':'year', '0':'count'})"
   ]
  },
  {
   "cell_type": "code",
   "execution_count": null,
   "id": "eeabb1d0",
   "metadata": {
    "scrolled": true
   },
   "outputs": [],
   "source": [
    "internet_years.sort_values(by='year')"
   ]
  },
  {
   "cell_type": "markdown",
   "id": "00259e09",
   "metadata": {},
   "source": [
    "# 17. What is the first year to have a non-zero internet users percentage value?"
   ]
  },
  {
   "cell_type": "code",
   "execution_count": null,
   "id": "7c30cf3a",
   "metadata": {},
   "outputs": [],
   "source": [
    "internet_above_0 = internet_df.loc[internet_df['internet_users_pct'] > 0]"
   ]
  },
  {
   "cell_type": "code",
   "execution_count": null,
   "id": "75627000",
   "metadata": {},
   "outputs": [],
   "source": [
    "internet_above_0['year'].min()"
   ]
  },
  {
   "cell_type": "markdown",
   "id": "b3bd9db5",
   "metadata": {},
   "source": [
    "# 18. How does the distribution of internet users percent differ for 2000 and 2014?"
   ]
  },
  {
   "cell_type": "code",
   "execution_count": null,
   "id": "00f8a5d5",
   "metadata": {},
   "outputs": [],
   "source": [
    "internet_2000_2014 = internet_df.loc[(internet_df['year'] == 2014) | (internet_df['year'] == 2000)]"
   ]
  },
  {
   "cell_type": "code",
   "execution_count": null,
   "id": "943a6916",
   "metadata": {},
   "outputs": [],
   "source": [
    "internet_2000_2014.groupby(['year'])['internet_users_pct'].mean()"
   ]
  },
  {
   "cell_type": "markdown",
   "id": "ba40655f",
   "metadata": {},
   "source": [
    "# 19. For how many countries was the percentage of internet users below 5% in 2014?"
   ]
  },
  {
   "cell_type": "code",
   "execution_count": null,
   "id": "9e39098a",
   "metadata": {},
   "outputs": [],
   "source": [
    "internet_2014 = internet_df.loc[internet_df['year'] == 2014]"
   ]
  },
  {
   "cell_type": "code",
   "execution_count": null,
   "id": "022a905c",
   "metadata": {},
   "outputs": [],
   "source": [
    "internet_2014.loc[internet_2014['internet_users_pct'] < 5].count()"
   ]
  },
  {
   "cell_type": "markdown",
   "id": "18e3c9d4",
   "metadata": {},
   "source": [
    "# 20. Merge the two DataFrames to one. Do this in a way that keeps **all rows** from each of the two DataFrames. Call the new DataFrame `gdp_and_internet_use`. Look at the first and last few rows to confirm that it merged correctly."
   ]
  },
  {
   "cell_type": "code",
   "execution_count": null,
   "id": "57c5161e",
   "metadata": {},
   "outputs": [],
   "source": [
    "gdp_and_internet_use = pd.merge(gdp_df, internet_df,\n",
    "                               on = ['country', 'year'], \n",
    "                               how = 'outer')"
   ]
  },
  {
   "cell_type": "code",
   "execution_count": null,
   "id": "3e7a9b37",
   "metadata": {},
   "outputs": [],
   "source": [
    "gdp_and_internet_use.head(10)"
   ]
  },
  {
   "cell_type": "markdown",
   "id": "637fea31",
   "metadata": {},
   "source": [
    "# 21. Find the three countries with the highest internet users percentage in 2014. Use a seaborn FacetGrid (https://seaborn.pydata.org/generated/seaborn.FacetGrid.html) to compare how the GDP per capita has changed over time for these three countries. What do you notice?"
   ]
  },
  {
   "cell_type": "code",
   "execution_count": null,
   "id": "5b0df62e",
   "metadata": {},
   "outputs": [],
   "source": [
    "gdp_and_internet_use.loc[gdp_and_internet_use['year'] == 2014].nlargest(3, 'internet_users_pct')"
   ]
  },
  {
   "cell_type": "code",
   "execution_count": null,
   "id": "8abe6778",
   "metadata": {},
   "outputs": [],
   "source": [
    "gdp_ibn = gdp_and_internet_use.loc[(gdp_and_internet_use['country'] == 'Iceland')\\\n",
    "                         | (gdp_and_internet_use['country'] == 'Bermuda')\\\n",
    "                         | (gdp_and_internet_use['country'] == 'Norway')]\n",
    "gdp_ibn"
   ]
  },
  {
   "cell_type": "code",
   "execution_count": null,
   "id": "7ebc177b",
   "metadata": {},
   "outputs": [],
   "source": [
    "sns.lineplot(x='year', y='gdp_per_capita', data = gdp_ibn, hue='country')"
   ]
  },
  {
   "cell_type": "markdown",
   "id": "d0a11dba",
   "metadata": {},
   "source": [
    "# 22. Subset `gdp_and_internet_use` to just the year 2014. Save this as a new dataframe named `gdp_and_internet_use_2014`."
   ]
  },
  {
   "cell_type": "code",
   "execution_count": null,
   "id": "cdceace3",
   "metadata": {},
   "outputs": [],
   "source": [
    "gdp_and_internet_use_2014 = gdp_and_internet_use.loc[gdp_and_internet_use['year'] == 2014]"
   ]
  },
  {
   "cell_type": "code",
   "execution_count": null,
   "id": "3c8cbb01",
   "metadata": {},
   "outputs": [],
   "source": [
    "gdp_and_internet_use_2014.head()"
   ]
  },
  {
   "cell_type": "markdown",
   "id": "caa859d8",
   "metadata": {},
   "source": [
    "# 23. Create a plot which compares Internet Users Percentage and GDP per Capita for the year 2014. What do you notice from this plot? If you see any unusual points, investigate them."
   ]
  },
  {
   "cell_type": "code",
   "execution_count": null,
   "id": "22360b92",
   "metadata": {},
   "outputs": [],
   "source": [
    "sns.pairplot(gdp_and_internet_use_2014)"
   ]
  },
  {
   "cell_type": "markdown",
   "id": "af60453f",
   "metadata": {},
   "source": [
    "# 24. **Stretch Question:** Use the `qcut` function from pandas (https://pandas.pydata.org/docs/reference/api/pandas.qcut.html) to divide countries in `gdp_per_capita_2014` into three groups based on their GDP per capita values. Label these groups as \"Low\", \"Medium\", and \"High\". Put these labels in a new column, named \"GDP_group\"."
   ]
  },
  {
   "cell_type": "code",
   "execution_count": null,
   "id": "e8d2e64a",
   "metadata": {},
   "outputs": [],
   "source": [
    "gdp_and_internet_use_2014"
   ]
  },
  {
   "cell_type": "code",
   "execution_count": null,
   "id": "c1a52389",
   "metadata": {},
   "outputs": [],
   "source": [
    "bin_labels = ['low', 'medium', 'high']"
   ]
  },
  {
   "cell_type": "code",
   "execution_count": null,
   "id": "17ce1899",
   "metadata": {},
   "outputs": [],
   "source": [
    "gdp_and_internet_use_2014 = gdp_and_internet_use_2014.reset_index(drop=True)"
   ]
  },
  {
   "cell_type": "code",
   "execution_count": null,
   "id": "db163444",
   "metadata": {},
   "outputs": [],
   "source": [
    "gdp_and_internet_use_2014['gdp_group'] = pd.qcut(gdp_and_internet_use_2014['gdp_per_capita'],\n",
    "                                                 q=3,\n",
    "                                                 labels=bin_labels)"
   ]
  },
  {
   "cell_type": "code",
   "execution_count": null,
   "id": "848ee722",
   "metadata": {},
   "outputs": [],
   "source": [
    "gdp_and_internet_use_2014"
   ]
  },
  {
   "cell_type": "markdown",
   "id": "fcec6214",
   "metadata": {},
   "source": [
    "# 25. **Stretch Question:** How does the median internet users percentage compare for the three gdp groups?"
   ]
  },
  {
   "cell_type": "code",
   "execution_count": null,
   "id": "9b5577f7",
   "metadata": {},
   "outputs": [],
   "source": [
    "gdp_and_internet_use_2014.groupby(['gdp_group']).median()"
   ]
  },
  {
   "cell_type": "code",
   "execution_count": null,
   "id": "2c716988",
   "metadata": {},
   "outputs": [],
   "source": []
  }
 ],
 "metadata": {
  "kernelspec": {
   "display_name": "Python 3 (ipykernel)",
   "language": "python",
   "name": "python3"
  },
  "language_info": {
   "codemirror_mode": {
    "name": "ipython",
    "version": 3
   },
   "file_extension": ".py",
   "mimetype": "text/x-python",
   "name": "python",
   "nbconvert_exporter": "python",
   "pygments_lexer": "ipython3",
   "version": "3.9.13"
  }
 },
 "nbformat": 4,
 "nbformat_minor": 5
}
