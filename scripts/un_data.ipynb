{
 "cells": [
  {
   "cell_type": "markdown",
   "id": "9b7d23b9",
   "metadata": {},
   "source": [
    "4 - Import dataframes"
   ]
  },
  {
   "cell_type": "code",
   "execution_count": null,
   "id": "dda3a2b5",
   "metadata": {},
   "outputs": [],
   "source": [
    "import pandas as pd\n",
    "import numpy as np\n",
    "import matplotlib.pyplot as plt\n",
    "import seaborn as sns\n",
    "\n",
    "%matplotlib inline"
   ]
  },
  {
   "cell_type": "markdown",
   "id": "3dfd95e0",
   "metadata": {},
   "source": [
    "    Import csv file"
   ]
  },
  {
   "cell_type": "code",
   "execution_count": null,
   "id": "6becc8b4",
   "metadata": {},
   "outputs": [],
   "source": [
    "gdp_df = pd.read_csv('../data/gdp_percapita.csv')"
   ]
  },
  {
   "cell_type": "markdown",
   "id": "14675756",
   "metadata": {},
   "source": [
    "14 - Import internet csv file"
   ]
  },
  {
   "cell_type": "code",
   "execution_count": null,
   "id": "a9832204",
   "metadata": {
    "scrolled": false
   },
   "outputs": [],
   "source": [
    "internet_df = pd.read_csv('../data/internet_use.csv', on_bad_lines = 'warn', nrows=4676)"
   ]
  },
  {
   "cell_type": "code",
   "execution_count": null,
   "id": "458b25fc",
   "metadata": {},
   "outputs": [],
   "source": [
    "internet_df"
   ]
  },
  {
   "cell_type": "code",
   "execution_count": null,
   "id": "b887c6da",
   "metadata": {},
   "outputs": [],
   "source": []
  },
  {
   "cell_type": "markdown",
   "id": "d1e5fa91",
   "metadata": {},
   "source": [
    "5 - How many rows and columns in gdp_df"
   ]
  },
  {
   "cell_type": "code",
   "execution_count": null,
   "id": "7de47ccd",
   "metadata": {},
   "outputs": [],
   "source": [
    "gdp_df.shape"
   ]
  },
  {
   "cell_type": "code",
   "execution_count": null,
   "id": "28947ae0",
   "metadata": {},
   "outputs": [],
   "source": [
    "gdp_df.head()"
   ]
  },
  {
   "cell_type": "markdown",
   "id": "480c4958",
   "metadata": {},
   "source": [
    "6 - Drop 'Value Footnotes' column"
   ]
  },
  {
   "cell_type": "code",
   "execution_count": null,
   "id": "c62d5319",
   "metadata": {},
   "outputs": [],
   "source": [
    "gdp_df = gdp_df.drop(columns = 'Value Footnotes')\n",
    "gdp_df.head()"
   ]
  },
  {
   "cell_type": "markdown",
   "id": "c98fce2e",
   "metadata": {},
   "source": [
    "6 - Rename columns "
   ]
  },
  {
   "cell_type": "code",
   "execution_count": null,
   "id": "cac114ff",
   "metadata": {
    "scrolled": true
   },
   "outputs": [],
   "source": [
    "gdp_df = gdp_df.rename(columns = {'Country or Area' : 'country', 'Year' : 'year', 'Value' : 'gdp_per_capita'})\n",
    "gdp_df.head()"
   ]
  },
  {
   "cell_type": "code",
   "execution_count": null,
   "id": "5c84609a",
   "metadata": {},
   "outputs": [],
   "source": [
    "years_counts = gdp_df.country.value_counts()\n",
    "years_counts.head()"
   ]
  },
  {
   "cell_type": "code",
   "execution_count": null,
   "id": "f51b9628",
   "metadata": {},
   "outputs": [],
   "source": [
    "type(years_counts)"
   ]
  },
  {
   "cell_type": "code",
   "execution_count": null,
   "id": "bf2f8bbd",
   "metadata": {},
   "outputs": [],
   "source": [
    "years_counts = years_counts.to_frame()"
   ]
  },
  {
   "cell_type": "code",
   "execution_count": null,
   "id": "bc9d74d0",
   "metadata": {},
   "outputs": [],
   "source": [
    "type(years_counts)"
   ]
  },
  {
   "cell_type": "code",
   "execution_count": null,
   "id": "d221c815",
   "metadata": {},
   "outputs": [],
   "source": [
    "years_counts.head()"
   ]
  },
  {
   "cell_type": "code",
   "execution_count": null,
   "id": "1713ed0d",
   "metadata": {},
   "outputs": [],
   "source": [
    "years_counts.reset_index()"
   ]
  },
  {
   "cell_type": "code",
   "execution_count": null,
   "id": "cb7d8771",
   "metadata": {},
   "outputs": [],
   "source": [
    "years_counts = years_counts.reset_index()\n",
    "years_counts"
   ]
  },
  {
   "cell_type": "code",
   "execution_count": null,
   "id": "edfaa51f",
   "metadata": {},
   "outputs": [],
   "source": [
    "years_counts.columns = ['country', 'count']\n",
    "years_counts.head()"
   ]
  },
  {
   "cell_type": "markdown",
   "id": "36f36f7b",
   "metadata": {},
   "source": [
    "7 - Countries with data for ALL years (205 total)"
   ]
  },
  {
   "cell_type": "code",
   "execution_count": null,
   "id": "19e53cef",
   "metadata": {
    "scrolled": true
   },
   "outputs": [],
   "source": [
    "years_counts.loc[years_counts['count'] > 30]"
   ]
  },
  {
   "cell_type": "markdown",
   "id": "656639e3",
   "metadata": {},
   "source": [
    "    Countries with < 25 years worth of data"
   ]
  },
  {
   "cell_type": "code",
   "execution_count": null,
   "id": "d49988fc",
   "metadata": {
    "scrolled": false
   },
   "outputs": [],
   "source": [
    "years_counts.loc[years_counts['count'] < 25]"
   ]
  },
  {
   "cell_type": "markdown",
   "id": "181db635",
   "metadata": {},
   "source": [
    "7 - Total observations per year"
   ]
  },
  {
   "cell_type": "code",
   "execution_count": null,
   "id": "e9c03c73",
   "metadata": {
    "scrolled": true
   },
   "outputs": [],
   "source": [
    "year_values = gdp_df.year.value_counts()"
   ]
  },
  {
   "cell_type": "code",
   "execution_count": null,
   "id": "7bfd617c",
   "metadata": {},
   "outputs": [],
   "source": [
    "type(year_values)"
   ]
  },
  {
   "cell_type": "code",
   "execution_count": null,
   "id": "1643ba57",
   "metadata": {},
   "outputs": [],
   "source": [
    "year_values = year_values.to_frame()"
   ]
  },
  {
   "cell_type": "code",
   "execution_count": null,
   "id": "4c19c6b8",
   "metadata": {},
   "outputs": [],
   "source": [
    "type(year_values)"
   ]
  },
  {
   "cell_type": "code",
   "execution_count": null,
   "id": "e8555778",
   "metadata": {},
   "outputs": [],
   "source": [
    "year_values = year_values.reset_index()"
   ]
  },
  {
   "cell_type": "code",
   "execution_count": null,
   "id": "6d84a0fd",
   "metadata": {},
   "outputs": [],
   "source": [
    "year_values.columns = ['year', 'count']\n",
    "year_values"
   ]
  },
  {
   "cell_type": "markdown",
   "id": "9a98ff47",
   "metadata": {},
   "source": [
    "   7 - Obervations per year (Observations went up as the years went on, but dropped in 2019 and 2020)"
   ]
  },
  {
   "cell_type": "code",
   "execution_count": null,
   "id": "e3ecf126",
   "metadata": {
    "scrolled": true
   },
   "outputs": [],
   "source": [
    "year_values.sort_values(by = 'year')"
   ]
  },
  {
   "cell_type": "markdown",
   "id": "0570470d",
   "metadata": {},
   "source": [
    "2020 Data"
   ]
  },
  {
   "cell_type": "code",
   "execution_count": null,
   "id": "01828c90",
   "metadata": {
    "scrolled": false
   },
   "outputs": [],
   "source": [
    "gdp_2020 = gdp_df.loc[gdp_df.year == 2020]\n",
    "gdp_2020"
   ]
  },
  {
   "cell_type": "markdown",
   "id": "e1382916",
   "metadata": {},
   "source": [
    "2020 Histogram"
   ]
  },
  {
   "cell_type": "code",
   "execution_count": null,
   "id": "20a35f7e",
   "metadata": {},
   "outputs": [],
   "source": [
    "sns.set(style='darkgrid')\n",
    "sns.histplot(gdp_2020)"
   ]
  },
  {
   "cell_type": "markdown",
   "id": "fc728dd5",
   "metadata": {},
   "source": [
    "2020 Desnity Plot"
   ]
  },
  {
   "cell_type": "code",
   "execution_count": null,
   "id": "2f274c7a",
   "metadata": {},
   "outputs": [],
   "source": [
    "sns.set(style='darkgrid')\n",
    "sns.kdeplot(gdp_2020['gdp_per_capita'])"
   ]
  },
  {
   "cell_type": "markdown",
   "id": "2b089a6e",
   "metadata": {},
   "source": [
    "2020 Boxplot"
   ]
  },
  {
   "cell_type": "code",
   "execution_count": null,
   "id": "eadd3bd8",
   "metadata": {},
   "outputs": [],
   "source": [
    "sns.set(style='darkgrid')\n",
    "sns.boxplot(x=gdp_2020['country'], y=gdp_2020['gdp_per_capita'])"
   ]
  },
  {
   "cell_type": "markdown",
   "id": "8286c3fd",
   "metadata": {},
   "source": [
    "2020 Violin Plot"
   ]
  },
  {
   "cell_type": "code",
   "execution_count": null,
   "id": "ca38d4b6",
   "metadata": {},
   "outputs": [],
   "source": [
    "sns.set(style='darkgrid')\n",
    "sns.violinplot(x=gdp_2020['country'], y=gdp_2020['gdp_per_capita'])"
   ]
  },
  {
   "cell_type": "code",
   "execution_count": null,
   "id": "6b38d35a",
   "metadata": {},
   "outputs": [],
   "source": [
    "gdp_df"
   ]
  },
  {
   "cell_type": "markdown",
   "id": "15b9712e",
   "metadata": {},
   "source": [
    "Question 9 - median for 2020 (12908)"
   ]
  },
  {
   "cell_type": "code",
   "execution_count": null,
   "id": "6cb6ec76",
   "metadata": {},
   "outputs": [],
   "source": [
    "gdp_2020.gdp_per_capita.median()"
   ]
  },
  {
   "cell_type": "code",
   "execution_count": null,
   "id": "3f029f28",
   "metadata": {},
   "outputs": [],
   "source": [
    "gdp_df.loc[gdp_df.year == 1990]"
   ]
  },
  {
   "cell_type": "markdown",
   "id": "411656f8",
   "metadata": {},
   "source": [
    "Create Data by Decades"
   ]
  },
  {
   "cell_type": "code",
   "execution_count": null,
   "id": "dad3095b",
   "metadata": {},
   "outputs": [],
   "source": [
    "gdp_decades = gdp_df.loc[(gdp_df.year == 1990) | (gdp_df.year == 2000) | (gdp_df.year == 2010) | (gdp_df.year == 2020)]"
   ]
  },
  {
   "cell_type": "code",
   "execution_count": null,
   "id": "3f467f87",
   "metadata": {},
   "outputs": [],
   "source": [
    "gdp_decades"
   ]
  },
  {
   "cell_type": "markdown",
   "id": "fcc1d2ed",
   "metadata": {},
   "source": [
    "Decades Boxplot"
   ]
  },
  {
   "cell_type": "code",
   "execution_count": null,
   "id": "f0efb31f",
   "metadata": {},
   "outputs": [],
   "source": [
    "sns.set(style='darkgrid')\n",
    "sns.boxplot(x=gdp_decades['year'], y=gdp_decades['gdp_per_capita'])"
   ]
  },
  {
   "cell_type": "markdown",
   "id": "7f847a81",
   "metadata": {},
   "source": [
    "Decades Barplot"
   ]
  },
  {
   "cell_type": "code",
   "execution_count": null,
   "id": "fb2d59c2",
   "metadata": {},
   "outputs": [],
   "source": [
    "sns.set(style='darkgrid')\n",
    "plt.bar(gdp_decades['year'], gdp_decades['gdp_per_capita'])"
   ]
  },
  {
   "cell_type": "markdown",
   "id": "5deb0095",
   "metadata": {},
   "source": [
    "Decades Scatterplot"
   ]
  },
  {
   "cell_type": "code",
   "execution_count": null,
   "id": "62cf8aeb",
   "metadata": {},
   "outputs": [],
   "source": [
    "sns.set(style='darkgrid')\n",
    "sns.regplot(x=gdp_decades['year'], y=gdp_decades['gdp_per_capita'])"
   ]
  },
  {
   "cell_type": "markdown",
   "id": "3a137305",
   "metadata": {},
   "source": [
    "Decades Scatterplot with Trend Line"
   ]
  },
  {
   "cell_type": "code",
   "execution_count": null,
   "id": "950fc221",
   "metadata": {},
   "outputs": [],
   "source": [
    "sns.set(style='darkgrid')\n",
    "sns.regplot(gdp_decades['year'], gdp_decades['gdp_per_capita'], line_kws={\"color\":'r', 'alpha':0.7, 'lw':5})"
   ]
  },
  {
   "cell_type": "markdown",
   "id": "a7d51fb2",
   "metadata": {},
   "source": [
    "11 - Which country was first to have gdp_per_capita > 100000"
   ]
  },
  {
   "cell_type": "code",
   "execution_count": null,
   "id": "c57b7763",
   "metadata": {},
   "outputs": [],
   "source": [
    "gdp_high = gdp_df.loc[gdp_df['gdp_per_capita'] > 100000]\n",
    "gdp_high.loc[gdp_high['year'] == min(gdp_high['year'])]"
   ]
  },
  {
   "cell_type": "markdown",
   "id": "627c4a11",
   "metadata": {},
   "source": [
    "12 - Which country had highest gdp_per_capita in 2020? (Luxembourg)"
   ]
  },
  {
   "cell_type": "code",
   "execution_count": null,
   "id": "3fc54631",
   "metadata": {},
   "outputs": [],
   "source": [
    "gdp_2020.loc[gdp_2020['gdp_per_capita'] == max(gdp_2020['gdp_per_capita'])]"
   ]
  },
  {
   "cell_type": "code",
   "execution_count": null,
   "id": "472732de",
   "metadata": {},
   "outputs": [],
   "source": [
    "gdp_luxem = gdp_df.loc[gdp_df['country'] == 'Luxembourg']\n",
    "gdp_luxem"
   ]
  },
  {
   "cell_type": "code",
   "execution_count": null,
   "id": "02b06fac",
   "metadata": {},
   "outputs": [],
   "source": [
    "sns.set(style = 'darkgrid')\n",
    "sns.regplot(x=gdp_luxem['year'], y=gdp_luxem['gdp_per_capita'])\n",
    "plt.title('Luxembourg gdp_per_capita by year')"
   ]
  },
  {
   "cell_type": "markdown",
   "id": "9872b9e7",
   "metadata": {},
   "source": [
    "13 - Which country had lowest gdp_per_capita in 2020 (Burundi)"
   ]
  },
  {
   "cell_type": "code",
   "execution_count": null,
   "id": "ce4a4ada",
   "metadata": {},
   "outputs": [],
   "source": [
    "gdp_burundi = gdp_2020.loc[gdp_2020['gdp_per_capita'] == min(gdp_2020['gdp_per_capita'])]\n",
    "gdp_burundi"
   ]
  },
  {
   "cell_type": "code",
   "execution_count": null,
   "id": "4b320d56",
   "metadata": {},
   "outputs": [],
   "source": [
    "gdp_burundi = gdp_df.loc[gdp_df['country'] == 'Burundi']\n",
    "gdp_burundi"
   ]
  },
  {
   "cell_type": "code",
   "execution_count": null,
   "id": "e8d2efd2",
   "metadata": {},
   "outputs": [],
   "source": [
    "sns.set(style = 'darkgrid')\n",
    "sns.regplot(x=gdp_burundi['year'], y=gdp_burundi['gdp_per_capita'])\n",
    "plt.title('Burundi gdp_per_capita by year')"
   ]
  },
  {
   "cell_type": "markdown",
   "id": "925c6fd1",
   "metadata": {},
   "source": [
    "GDP 1990"
   ]
  },
  {
   "cell_type": "code",
   "execution_count": null,
   "id": "cb61ef9a",
   "metadata": {},
   "outputs": [],
   "source": [
    "gdp_1990 = gdp_df.loc[gdp_df['year'] == 1990]\n",
    "gdp_1990"
   ]
  },
  {
   "cell_type": "markdown",
   "id": "eeab18db",
   "metadata": {},
   "source": [
    "DF of 1990 and 2020"
   ]
  },
  {
   "cell_type": "code",
   "execution_count": null,
   "id": "ec0a468f",
   "metadata": {},
   "outputs": [],
   "source": [
    "gdp_span = gdp_df.loc[(gdp_df['year'] == 1990) | (gdp_df['year'] == 2020)]\n",
    "gdp_span"
   ]
  },
  {
   "cell_type": "markdown",
   "id": "81c117ac",
   "metadata": {},
   "source": [
    "Code to see which year (1990 or 2020) had max gdp.  Only 1 country went down"
   ]
  },
  {
   "cell_type": "code",
   "execution_count": null,
   "id": "327334a4",
   "metadata": {
    "scrolled": false
   },
   "outputs": [],
   "source": [
    "gdp_span.groupby('country').max('gdp_per_capita').sort_values(by = 'year')"
   ]
  },
  {
   "cell_type": "markdown",
   "id": "6bc5daf9",
   "metadata": {},
   "source": [
    "15 - Drop 'Value Footnotes'"
   ]
  },
  {
   "cell_type": "code",
   "execution_count": null,
   "id": "12f06264",
   "metadata": {},
   "outputs": [],
   "source": [
    "internet_df = internet_df.drop(columns = 'Value Footnotes')\n",
    "internet_df"
   ]
  },
  {
   "cell_type": "code",
   "execution_count": null,
   "id": "afe54e4c",
   "metadata": {},
   "outputs": [],
   "source": [
    "internet_df = internet_df.rename(columns = {'Country or Area': 'country', 'Year' : 'year', 'Value' : 'internet_users_pct'})"
   ]
  },
  {
   "cell_type": "code",
   "execution_count": null,
   "id": "73b6d6e8",
   "metadata": {},
   "outputs": [],
   "source": [
    "internet_df"
   ]
  },
  {
   "cell_type": "code",
   "execution_count": null,
   "id": "44f356c1",
   "metadata": {},
   "outputs": [],
   "source": [
    "internet_byyear = internet_df.value_counts('year')\n",
    "type(internet_byyear)"
   ]
  },
  {
   "cell_type": "code",
   "execution_count": null,
   "id": "a8a40335",
   "metadata": {},
   "outputs": [],
   "source": [
    "internet_byyear = internet_byyear.to_frame()"
   ]
  },
  {
   "cell_type": "code",
   "execution_count": null,
   "id": "6a1cd895",
   "metadata": {
    "scrolled": true
   },
   "outputs": [],
   "source": [
    "internet_byyear = internet_byyear.reset_index(drop=True)\n",
    "internet_byyear"
   ]
  },
  {
   "cell_type": "code",
   "execution_count": null,
   "id": "5a2817f8",
   "metadata": {},
   "outputs": [],
   "source": [
    "internet_byyear.columns = ('index', 'year', 'count')\n",
    "internet_byyear.drop(columns = 'index')"
   ]
  },
  {
   "cell_type": "code",
   "execution_count": null,
   "id": "21809c3d",
   "metadata": {},
   "outputs": [],
   "source": [
    "internet_byyear.sort_values(by = 'count', ascending = False).head(20)"
   ]
  },
  {
   "cell_type": "markdown",
   "id": "7f169a6d",
   "metadata": {},
   "source": [
    "17 - First year to have non-zero internet users percentage value (1990)"
   ]
  },
  {
   "cell_type": "code",
   "execution_count": null,
   "id": "7c177f48",
   "metadata": {},
   "outputs": [],
   "source": [
    "internet_above0 = internet_df.loc[internet_df['internet_users_pct'] > 0]\n",
    "internet_above0.sort_values(by = 'year')"
   ]
  },
  {
   "cell_type": "code",
   "execution_count": null,
   "id": "13e36861",
   "metadata": {},
   "outputs": [],
   "source": [
    "internet_diff = internet_df.loc[(internet_df['year'] == '2000') | (internet_df['year'] == '2014')]\n",
    "internet_diff"
   ]
  },
  {
   "cell_type": "markdown",
   "id": "d0929fb5",
   "metadata": {},
   "source": [
    "18 - Difference of internet_users by average (2000 compared to 2014)"
   ]
  },
  {
   "cell_type": "code",
   "execution_count": null,
   "id": "a312dea5",
   "metadata": {
    "scrolled": false
   },
   "outputs": [],
   "source": [
    "internet_diff.groupby(by = ['year'])['internet_users_pct'].mean()"
   ]
  },
  {
   "cell_type": "code",
   "execution_count": null,
   "id": "60c7a01d",
   "metadata": {},
   "outputs": [],
   "source": [
    "plt.scatter(x = 'year', y = 'internet_users_pct', data = internet_diff)"
   ]
  },
  {
   "cell_type": "markdown",
   "id": "47614813",
   "metadata": {},
   "source": [
    "19 - How many countries was percentage of internet users below 5% in 2014"
   ]
  },
  {
   "cell_type": "code",
   "execution_count": null,
   "id": "0f64b1a6",
   "metadata": {},
   "outputs": [],
   "source": [
    "internet_2014 = internet_df.loc[internet_df['year'] == '2014']\n",
    "internet_2014"
   ]
  },
  {
   "cell_type": "code",
   "execution_count": null,
   "id": "0cca2f92",
   "metadata": {},
   "outputs": [],
   "source": [
    "internet_2014.loc[internet_2014['internet_users_pct'] < 5]"
   ]
  },
  {
   "cell_type": "code",
   "execution_count": null,
   "id": "163ff2db",
   "metadata": {},
   "outputs": [],
   "source": [
    "internet_2014.loc[internet_2014['internet_users_pct'] < 5].count()"
   ]
  },
  {
   "cell_type": "markdown",
   "id": "5120a6de",
   "metadata": {},
   "source": [
    "20 - Merge two dataframes into one"
   ]
  },
  {
   "cell_type": "code",
   "execution_count": null,
   "id": "0d2f3d2d",
   "metadata": {},
   "outputs": [],
   "source": [
    "internet_df.head(2)"
   ]
  },
  {
   "cell_type": "code",
   "execution_count": null,
   "id": "082e3cf6",
   "metadata": {},
   "outputs": [],
   "source": [
    "gdp_df.head(10)"
   ]
  },
  {
   "cell_type": "markdown",
   "id": "6acab7ff",
   "metadata": {},
   "source": [
    "Merge two dataframes keeping ALL rows from each dataframe"
   ]
  },
  {
   "cell_type": "code",
   "execution_count": null,
   "id": "3733395e",
   "metadata": {
    "scrolled": true
   },
   "outputs": [],
   "source": [
    "gdp_and_internet_use = pd.concat([gdp_df, internet_df])\n",
    "gdp_and_internet_use"
   ]
  },
  {
   "cell_type": "markdown",
   "id": "84b6808f",
   "metadata": {},
   "source": [
    "21 - Find three countries with highest internet users percentage in 2014"
   ]
  },
  {
   "cell_type": "code",
   "execution_count": null,
   "id": "834e239b",
   "metadata": {},
   "outputs": [],
   "source": [
    "top_3_internet_2014 = gdp_and_internet_use.loc[gdp_and_internet_use['year'] == '2014'].sort_values(by = 'internet_users_pct', \n",
    "                                                                             ascending = False).head(3)\n",
    "top_3_internet_2014"
   ]
  },
  {
   "cell_type": "code",
   "execution_count": null,
   "id": "dd1e416d",
   "metadata": {},
   "outputs": [],
   "source": [
    "top_3 = gdp_and_internet_use.loc[(gdp_and_internet_use['country'] == 'Iceland') | (gdp_and_internet_use['country'] == 'Bermuda') | (gdp_and_internet_use['country'] == 'Norway')]\n",
    "top_3"
   ]
  },
  {
   "cell_type": "code",
   "execution_count": null,
   "id": "d8aa88f3",
   "metadata": {},
   "outputs": [],
   "source": [
    "top_3 = top_3[top_3['gdp_per_capita'].notnull()]\n",
    "top_3"
   ]
  },
  {
   "cell_type": "markdown",
   "id": "d004196d",
   "metadata": {},
   "source": [
    "Create Facetgrid to compare gdp of three countries"
   ]
  },
  {
   "cell_type": "code",
   "execution_count": null,
   "id": "55b06573",
   "metadata": {},
   "outputs": [],
   "source": [
    "sns.lineplot(x='year', y='gdp_per_capita', data = top_3, hue='country')"
   ]
  },
  {
   "cell_type": "markdown",
   "id": "9e24e5e9",
   "metadata": {},
   "source": [
    "22 - Subset gdp_and_internet_use to the year 2014"
   ]
  },
  {
   "cell_type": "code",
   "execution_count": null,
   "id": "5d26e897",
   "metadata": {
    "scrolled": false
   },
   "outputs": [],
   "source": [
    "gdp_and_internet_use_2014 = gdp_and_internet_use.loc[gdp_and_internet_use['year'] == '2014']\n",
    "gdp_and_internet_use_2014.head()"
   ]
  },
  {
   "cell_type": "code",
   "execution_count": null,
   "id": "f47733bc",
   "metadata": {},
   "outputs": [],
   "source": [
    "gdp_and_internet_use_2014.loc[gdp_and_internet_use_2014['country'] == 'Afghanistan']"
   ]
  },
  {
   "cell_type": "code",
   "execution_count": null,
   "id": "ff27f55c",
   "metadata": {},
   "outputs": [],
   "source": [
    "internet_df"
   ]
  },
  {
   "cell_type": "code",
   "execution_count": null,
   "id": "1a697cf4",
   "metadata": {
    "scrolled": true
   },
   "outputs": [],
   "source": [
    "internet_df.info()"
   ]
  },
  {
   "cell_type": "code",
   "execution_count": null,
   "id": "76504a2f",
   "metadata": {},
   "outputs": [],
   "source": [
    "gdp_df.info(10)"
   ]
  },
  {
   "cell_type": "code",
   "execution_count": null,
   "id": "97ac4296",
   "metadata": {},
   "outputs": [],
   "source": [
    "gdp_df['year']=gdp_df['year'].astype(object)\n",
    "gdp_df.info()"
   ]
  },
  {
   "cell_type": "code",
   "execution_count": null,
   "id": "6a7634e2",
   "metadata": {},
   "outputs": [],
   "source": [
    "internet_df = internet_df.drop(columns = 'Value Footnotes')"
   ]
  },
  {
   "cell_type": "code",
   "execution_count": null,
   "id": "39dae117",
   "metadata": {},
   "outputs": [],
   "source": [
    "internet_df = internet_df.rename(columns = {'Country or Area':'country', 'Year':'year', 'Value':'internet_users_pct'})\n",
    "internet_df"
   ]
  },
  {
   "cell_type": "code",
   "execution_count": null,
   "id": "cb48be40",
   "metadata": {},
   "outputs": [],
   "source": [
    "merge = pd.merge(gdp_df, internet_df, left_on=['country', 'year'], right_on=['country', 'year'], how='outer')\n",
    "merge.head(10)"
   ]
  },
  {
   "cell_type": "code",
   "execution_count": null,
   "id": "f091b6e7",
   "metadata": {},
   "outputs": [],
   "source": [
    "merge.loc[merge['country']=='Norway']"
   ]
  },
  {
   "cell_type": "code",
   "execution_count": null,
   "id": "2037cb00",
   "metadata": {},
   "outputs": [],
   "source": [
    "schools_with_scores = pd.merge(schools_subset, indicators_subset, \n",
    "                               left_on = 'name', right_on = 'school_name', \n",
    "                               how = 'inner')\n",
    "schools_with_scores.head()"
   ]
  },
  {
   "cell_type": "code",
   "execution_count": null,
   "id": "a13d3f20",
   "metadata": {},
   "outputs": [],
   "source": [
    "new_df = pd.merge(A_df, B_df,  how='left', left_on=['A_c1','c2'], right_on = ['B_c1','c2'])\n"
   ]
  },
  {
   "cell_type": "code",
   "execution_count": null,
   "id": "26134533",
   "metadata": {},
   "outputs": [],
   "source": [
    "pd.merge(df1, df2, how='left', left_on=['a1', 'b'], right_on = ['a2','b'])\n"
   ]
  }
 ],
 "metadata": {
  "kernelspec": {
   "display_name": "Python 3 (ipykernel)",
   "language": "python",
   "name": "python3"
  },
  "language_info": {
   "codemirror_mode": {
    "name": "ipython",
    "version": 3
   },
   "file_extension": ".py",
   "mimetype": "text/x-python",
   "name": "python",
   "nbconvert_exporter": "python",
   "pygments_lexer": "ipython3",
   "version": "3.9.13"
  }
 },
 "nbformat": 4,
 "nbformat_minor": 5
}
